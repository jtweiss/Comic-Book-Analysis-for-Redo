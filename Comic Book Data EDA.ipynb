{
 "cells": [
  {
   "cell_type": "markdown",
   "metadata": {},
   "source": [
    "#  Comic Book Data EDA for Redo"
   ]
  },
  {
   "cell_type": "code",
   "execution_count": 1,
   "metadata": {},
   "outputs": [],
   "source": [
    "import re\n",
    "\n",
    "import pandas as pd\n",
    "import numpy as np\n",
    "import seaborn as sns\n",
    "import matplotlib\n",
    "from matplotlib import pyplot as plt"
   ]
  },
  {
   "cell_type": "code",
   "execution_count": 2,
   "metadata": {},
   "outputs": [],
   "source": [
    "df = pd.read_csv(r\"C:\\Users\\Elliot Weiss\\Desktop\\07-10-2019 16_44_18.csv\", sep=';')"
   ]
  },
  {
   "cell_type": "code",
   "execution_count": 3,
   "metadata": {},
   "outputs": [
    {
     "data": {
      "text/html": [
       "<div>\n",
       "<style scoped>\n",
       "    .dataframe tbody tr th:only-of-type {\n",
       "        vertical-align: middle;\n",
       "    }\n",
       "\n",
       "    .dataframe tbody tr th {\n",
       "        vertical-align: top;\n",
       "    }\n",
       "\n",
       "    .dataframe thead th {\n",
       "        text-align: right;\n",
       "    }\n",
       "</style>\n",
       "<table border=\"1\" class=\"dataframe\">\n",
       "  <thead>\n",
       "    <tr style=\"text-align: right;\">\n",
       "      <th></th>\n",
       "      <th>Title</th>\n",
       "      <th>Series</th>\n",
       "      <th>Condition</th>\n",
       "      <th>Publisher</th>\n",
       "      <th>Month Published</th>\n",
       "      <th>Year Published</th>\n",
       "      <th>Tags</th>\n",
       "      <th>Description</th>\n",
       "      <th>Cover Price</th>\n",
       "      <th>Full Price</th>\n",
       "      <th>URL</th>\n",
       "    </tr>\n",
       "  </thead>\n",
       "  <tbody>\n",
       "    <tr>\n",
       "      <th>0</th>\n",
       "      <td>Action Comics (1938 DC) 649 VF</td>\n",
       "      <td>1938 DC</td>\n",
       "      <td>VF</td>\n",
       "      <td>DC</td>\n",
       "      <td>Jan</td>\n",
       "      <td>1990</td>\n",
       "      <td>Superman</td>\n",
       "      <td>Cover art by George Perez. Man and Machine (Th...</td>\n",
       "      <td>$0.75</td>\n",
       "      <td>$8.00</td>\n",
       "      <td>https://www.mycomicshop.com/search?IID=6378081...</td>\n",
       "    </tr>\n",
       "    <tr>\n",
       "      <th>1</th>\n",
       "      <td>Action Comics (1938 DC) 650 VF 8.0</td>\n",
       "      <td>1938 DC</td>\n",
       "      <td>VF .</td>\n",
       "      <td>DC</td>\n",
       "      <td>Feb</td>\n",
       "      <td>1990</td>\n",
       "      <td>Superman</td>\n",
       "      <td>Cover art by George Perez. Reflections starrin...</td>\n",
       "      <td>$0.75</td>\n",
       "      <td>$9.60</td>\n",
       "      <td>https://www.mycomicshop.com/search?IID=6286761...</td>\n",
       "    </tr>\n",
       "    <tr>\n",
       "      <th>2</th>\n",
       "      <td>Alien Legion (1984 1st Series) 13 FN</td>\n",
       "      <td>1984 1st Series</td>\n",
       "      <td>FN</td>\n",
       "      <td>Marvel/Epic</td>\n",
       "      <td>Apr</td>\n",
       "      <td>1986</td>\n",
       "      <td>NaN</td>\n",
       "      <td>\"Moonlillies for Coracora!\" Created by Carl Po...</td>\n",
       "      <td>$1.50</td>\n",
       "      <td>$3.60</td>\n",
       "      <td>https://www.mycomicshop.com/search?IID=3893091...</td>\n",
       "    </tr>\n",
       "    <tr>\n",
       "      <th>3</th>\n",
       "      <td>Alpha Flight (1983 1st Series) 13 VF</td>\n",
       "      <td>1983 1st Series</td>\n",
       "      <td>VF</td>\n",
       "      <td>Marvel</td>\n",
       "      <td>Aug</td>\n",
       "      <td>1984</td>\n",
       "      <td>Hero/Villain Teams, Wolverine</td>\n",
       "      <td>\"Nightmare\" Guest-starring Wolverine (in a dre...</td>\n",
       "      <td>$0.60</td>\n",
       "      <td>$4.40</td>\n",
       "      <td>https://www.mycomicshop.com/search?IID=9705191...</td>\n",
       "    </tr>\n",
       "    <tr>\n",
       "      <th>4</th>\n",
       "      <td>Alpha Flight (1983 1st Series) 17 VF</td>\n",
       "      <td>1983 1st Series</td>\n",
       "      <td>VF</td>\n",
       "      <td>Marvel</td>\n",
       "      <td>Dec</td>\n",
       "      <td>1984</td>\n",
       "      <td>Hero/Villain Teams, Wolverine, X-Men</td>\n",
       "      <td>\"Dreams Die Hard...!\" Guest-starring Wolverine...</td>\n",
       "      <td>$0.60</td>\n",
       "      <td>$4.00</td>\n",
       "      <td>https://www.mycomicshop.com/search?IID=6631491...</td>\n",
       "    </tr>\n",
       "  </tbody>\n",
       "</table>\n",
       "</div>"
      ],
      "text/plain": [
       "                                  Title           Series Condition  \\\n",
       "0        Action Comics (1938 DC) 649 VF          1938 DC        VF   \n",
       "1    Action Comics (1938 DC) 650 VF 8.0          1938 DC      VF .   \n",
       "2  Alien Legion (1984 1st Series) 13 FN  1984 1st Series        FN   \n",
       "3  Alpha Flight (1983 1st Series) 13 VF  1983 1st Series        VF   \n",
       "4  Alpha Flight (1983 1st Series) 17 VF  1983 1st Series        VF   \n",
       "\n",
       "     Publisher Month Published  Year Published  \\\n",
       "0           DC             Jan            1990   \n",
       "1           DC             Feb            1990   \n",
       "2  Marvel/Epic             Apr            1986   \n",
       "3       Marvel             Aug            1984   \n",
       "4       Marvel             Dec            1984   \n",
       "\n",
       "                                   Tags  \\\n",
       "0                              Superman   \n",
       "1                              Superman   \n",
       "2                                   NaN   \n",
       "3         Hero/Villain Teams, Wolverine   \n",
       "4  Hero/Villain Teams, Wolverine, X-Men   \n",
       "\n",
       "                                         Description Cover Price Full Price  \\\n",
       "0  Cover art by George Perez. Man and Machine (Th...       $0.75      $8.00   \n",
       "1  Cover art by George Perez. Reflections starrin...       $0.75      $9.60   \n",
       "2  \"Moonlillies for Coracora!\" Created by Carl Po...       $1.50      $3.60   \n",
       "3  \"Nightmare\" Guest-starring Wolverine (in a dre...       $0.60      $4.40   \n",
       "4  \"Dreams Die Hard...!\" Guest-starring Wolverine...       $0.60      $4.00   \n",
       "\n",
       "                                                 URL  \n",
       "0  https://www.mycomicshop.com/search?IID=6378081...  \n",
       "1  https://www.mycomicshop.com/search?IID=6286761...  \n",
       "2  https://www.mycomicshop.com/search?IID=3893091...  \n",
       "3  https://www.mycomicshop.com/search?IID=9705191...  \n",
       "4  https://www.mycomicshop.com/search?IID=6631491...  "
      ]
     },
     "execution_count": 3,
     "metadata": {},
     "output_type": "execute_result"
    }
   ],
   "source": [
    "df.head()"
   ]
  },
  {
   "cell_type": "markdown",
   "metadata": {},
   "source": [
    "##  Additonal Cleaning for Visualizations"
   ]
  },
  {
   "cell_type": "code",
   "execution_count": 4,
   "metadata": {},
   "outputs": [],
   "source": [
    "df.columns = ['full_title', \"series\", \"cond\", \"publisher\", \"pub_month\",\"pub_year\", \"tags\", \"description\",\"cover_price\", \"curr_price\", \"url\" ]"
   ]
  },
  {
   "cell_type": "code",
   "execution_count": 5,
   "metadata": {},
   "outputs": [
    {
     "data": {
      "text/html": [
       "<div>\n",
       "<style scoped>\n",
       "    .dataframe tbody tr th:only-of-type {\n",
       "        vertical-align: middle;\n",
       "    }\n",
       "\n",
       "    .dataframe tbody tr th {\n",
       "        vertical-align: top;\n",
       "    }\n",
       "\n",
       "    .dataframe thead th {\n",
       "        text-align: right;\n",
       "    }\n",
       "</style>\n",
       "<table border=\"1\" class=\"dataframe\">\n",
       "  <thead>\n",
       "    <tr style=\"text-align: right;\">\n",
       "      <th></th>\n",
       "      <th>full_title</th>\n",
       "      <th>series</th>\n",
       "      <th>cond</th>\n",
       "      <th>publisher</th>\n",
       "      <th>pub_month</th>\n",
       "      <th>pub_year</th>\n",
       "      <th>tags</th>\n",
       "      <th>description</th>\n",
       "      <th>cover_price</th>\n",
       "      <th>curr_price</th>\n",
       "      <th>url</th>\n",
       "    </tr>\n",
       "  </thead>\n",
       "  <tbody>\n",
       "    <tr>\n",
       "      <th>0</th>\n",
       "      <td>Action Comics (1938 DC) 649 VF</td>\n",
       "      <td>1938 DC</td>\n",
       "      <td>VF</td>\n",
       "      <td>DC</td>\n",
       "      <td>Jan</td>\n",
       "      <td>1990</td>\n",
       "      <td>Superman</td>\n",
       "      <td>Cover art by George Perez. Man and Machine (Th...</td>\n",
       "      <td>$0.75</td>\n",
       "      <td>$8.00</td>\n",
       "      <td>https://www.mycomicshop.com/search?IID=6378081...</td>\n",
       "    </tr>\n",
       "    <tr>\n",
       "      <th>1</th>\n",
       "      <td>Action Comics (1938 DC) 650 VF 8.0</td>\n",
       "      <td>1938 DC</td>\n",
       "      <td>VF .</td>\n",
       "      <td>DC</td>\n",
       "      <td>Feb</td>\n",
       "      <td>1990</td>\n",
       "      <td>Superman</td>\n",
       "      <td>Cover art by George Perez. Reflections starrin...</td>\n",
       "      <td>$0.75</td>\n",
       "      <td>$9.60</td>\n",
       "      <td>https://www.mycomicshop.com/search?IID=6286761...</td>\n",
       "    </tr>\n",
       "    <tr>\n",
       "      <th>2</th>\n",
       "      <td>Alien Legion (1984 1st Series) 13 FN</td>\n",
       "      <td>1984 1st Series</td>\n",
       "      <td>FN</td>\n",
       "      <td>Marvel/Epic</td>\n",
       "      <td>Apr</td>\n",
       "      <td>1986</td>\n",
       "      <td>NaN</td>\n",
       "      <td>\"Moonlillies for Coracora!\" Created by Carl Po...</td>\n",
       "      <td>$1.50</td>\n",
       "      <td>$3.60</td>\n",
       "      <td>https://www.mycomicshop.com/search?IID=3893091...</td>\n",
       "    </tr>\n",
       "    <tr>\n",
       "      <th>3</th>\n",
       "      <td>Alpha Flight (1983 1st Series) 13 VF</td>\n",
       "      <td>1983 1st Series</td>\n",
       "      <td>VF</td>\n",
       "      <td>Marvel</td>\n",
       "      <td>Aug</td>\n",
       "      <td>1984</td>\n",
       "      <td>Hero/Villain Teams, Wolverine</td>\n",
       "      <td>\"Nightmare\" Guest-starring Wolverine (in a dre...</td>\n",
       "      <td>$0.60</td>\n",
       "      <td>$4.40</td>\n",
       "      <td>https://www.mycomicshop.com/search?IID=9705191...</td>\n",
       "    </tr>\n",
       "    <tr>\n",
       "      <th>4</th>\n",
       "      <td>Alpha Flight (1983 1st Series) 17 VF</td>\n",
       "      <td>1983 1st Series</td>\n",
       "      <td>VF</td>\n",
       "      <td>Marvel</td>\n",
       "      <td>Dec</td>\n",
       "      <td>1984</td>\n",
       "      <td>Hero/Villain Teams, Wolverine, X-Men</td>\n",
       "      <td>\"Dreams Die Hard...!\" Guest-starring Wolverine...</td>\n",
       "      <td>$0.60</td>\n",
       "      <td>$4.00</td>\n",
       "      <td>https://www.mycomicshop.com/search?IID=6631491...</td>\n",
       "    </tr>\n",
       "  </tbody>\n",
       "</table>\n",
       "</div>"
      ],
      "text/plain": [
       "                             full_title           series  cond    publisher  \\\n",
       "0        Action Comics (1938 DC) 649 VF          1938 DC    VF           DC   \n",
       "1    Action Comics (1938 DC) 650 VF 8.0          1938 DC  VF .           DC   \n",
       "2  Alien Legion (1984 1st Series) 13 FN  1984 1st Series    FN  Marvel/Epic   \n",
       "3  Alpha Flight (1983 1st Series) 13 VF  1983 1st Series    VF       Marvel   \n",
       "4  Alpha Flight (1983 1st Series) 17 VF  1983 1st Series    VF       Marvel   \n",
       "\n",
       "  pub_month  pub_year                                  tags  \\\n",
       "0       Jan      1990                              Superman   \n",
       "1       Feb      1990                              Superman   \n",
       "2       Apr      1986                                   NaN   \n",
       "3       Aug      1984         Hero/Villain Teams, Wolverine   \n",
       "4       Dec      1984  Hero/Villain Teams, Wolverine, X-Men   \n",
       "\n",
       "                                         description cover_price curr_price  \\\n",
       "0  Cover art by George Perez. Man and Machine (Th...       $0.75      $8.00   \n",
       "1  Cover art by George Perez. Reflections starrin...       $0.75      $9.60   \n",
       "2  \"Moonlillies for Coracora!\" Created by Carl Po...       $1.50      $3.60   \n",
       "3  \"Nightmare\" Guest-starring Wolverine (in a dre...       $0.60      $4.40   \n",
       "4  \"Dreams Die Hard...!\" Guest-starring Wolverine...       $0.60      $4.00   \n",
       "\n",
       "                                                 url  \n",
       "0  https://www.mycomicshop.com/search?IID=6378081...  \n",
       "1  https://www.mycomicshop.com/search?IID=6286761...  \n",
       "2  https://www.mycomicshop.com/search?IID=3893091...  \n",
       "3  https://www.mycomicshop.com/search?IID=9705191...  \n",
       "4  https://www.mycomicshop.com/search?IID=6631491...  "
      ]
     },
     "execution_count": 5,
     "metadata": {},
     "output_type": "execute_result"
    }
   ],
   "source": [
    "df.head()"
   ]
  },
  {
   "cell_type": "code",
   "execution_count": 6,
   "metadata": {},
   "outputs": [],
   "source": [
    "df[\"title\"] = df[\"full_title\"].apply(lambda x: x.split(\" (\")[0])"
   ]
  },
  {
   "cell_type": "code",
   "execution_count": 7,
   "metadata": {},
   "outputs": [],
   "source": [
    "df[\"cover_price\"] = df[\"cover_price\"].replace( '[\\$,)]','', regex=True ).astype(float)"
   ]
  },
  {
   "cell_type": "code",
   "execution_count": 8,
   "metadata": {},
   "outputs": [],
   "source": [
    "df[\"curr_price\"] = df[\"curr_price\"].replace( '[\\$,)]','', regex=True ).astype(float)"
   ]
  },
  {
   "cell_type": "code",
   "execution_count": 9,
   "metadata": {},
   "outputs": [],
   "source": [
    "def letters(input):\n",
    "    return \"\".join(filter(str.isalpha, input))"
   ]
  },
  {
   "cell_type": "code",
   "execution_count": 10,
   "metadata": {},
   "outputs": [],
   "source": [
    "df[\"cond\"] = df[\"cond\"].apply(letters)"
   ]
  },
  {
   "cell_type": "code",
   "execution_count": 11,
   "metadata": {},
   "outputs": [],
   "source": [
    "df[\"cond\"] = df[\"cond\"].apply(lambda x: x[-2:])"
   ]
  },
  {
   "cell_type": "code",
   "execution_count": 12,
   "metadata": {},
   "outputs": [],
   "source": [
    "df[\"issue\"] = df[\"full_title\"].apply(lambda x: x.split(\")\")[1])"
   ]
  },
  {
   "cell_type": "code",
   "execution_count": 13,
   "metadata": {},
   "outputs": [],
   "source": [
    "def issue_cleaner(input):\n",
    "    for cond in set(df[\"cond\"]):\n",
    "        if cond in input:\n",
    "            return input.split(\" {}\".format(cond))[0]"
   ]
  },
  {
   "cell_type": "code",
   "execution_count": 14,
   "metadata": {},
   "outputs": [],
   "source": [
    "df[\"issue\"] = df[\"issue\"].apply(issue_cleaner)"
   ]
  },
  {
   "cell_type": "code",
   "execution_count": 15,
   "metadata": {},
   "outputs": [],
   "source": [
    "df[\"issue_num\"] = df[\"issue\"].apply(lambda x : int(re.findall(r'\\d+', x)[0]))"
   ]
  },
  {
   "cell_type": "code",
   "execution_count": 30,
   "metadata": {},
   "outputs": [],
   "source": [
    "df = df[['full_title',\"title\", \"issue\",\"issue_num\",\"series\", \"cond\", \"publisher\", \"pub_month\",\"pub_year\", \"tags\", \"description\",\"cover_price\", \"curr_price\", \"url\" ]]"
   ]
  },
  {
   "cell_type": "code",
   "execution_count": 33,
   "metadata": {},
   "outputs": [],
   "source": [
    "df.to_excel(r\"C:\\Users\\Elliot Weiss\\Desktop\\comic_data_for_Tableau.xlsx\")"
   ]
  },
  {
   "cell_type": "markdown",
   "metadata": {},
   "source": [
    "## Visualizations and EDA"
   ]
  },
  {
   "cell_type": "code",
   "execution_count": 17,
   "metadata": {},
   "outputs": [
    {
     "data": {
      "text/html": [
       "<div>\n",
       "<style scoped>\n",
       "    .dataframe tbody tr th:only-of-type {\n",
       "        vertical-align: middle;\n",
       "    }\n",
       "\n",
       "    .dataframe tbody tr th {\n",
       "        vertical-align: top;\n",
       "    }\n",
       "\n",
       "    .dataframe thead th {\n",
       "        text-align: right;\n",
       "    }\n",
       "</style>\n",
       "<table border=\"1\" class=\"dataframe\">\n",
       "  <thead>\n",
       "    <tr style=\"text-align: right;\">\n",
       "      <th></th>\n",
       "      <th>full_title</th>\n",
       "      <th>title</th>\n",
       "      <th>issue</th>\n",
       "      <th>issue_num</th>\n",
       "      <th>series</th>\n",
       "      <th>cond</th>\n",
       "      <th>publisher</th>\n",
       "      <th>pub_month</th>\n",
       "      <th>pub_year</th>\n",
       "      <th>tags</th>\n",
       "      <th>description</th>\n",
       "      <th>cover_price</th>\n",
       "      <th>curr_price</th>\n",
       "      <th>url</th>\n",
       "    </tr>\n",
       "  </thead>\n",
       "  <tbody>\n",
       "    <tr>\n",
       "      <th>0</th>\n",
       "      <td>Action Comics (1938 DC) 649 VF</td>\n",
       "      <td>Action Comics</td>\n",
       "      <td>649</td>\n",
       "      <td>649</td>\n",
       "      <td>1938 DC</td>\n",
       "      <td>VF</td>\n",
       "      <td>DC</td>\n",
       "      <td>Jan</td>\n",
       "      <td>1990</td>\n",
       "      <td>Superman</td>\n",
       "      <td>Cover art by George Perez. Man and Machine (Th...</td>\n",
       "      <td>0.75</td>\n",
       "      <td>8.0</td>\n",
       "      <td>https://www.mycomicshop.com/search?IID=6378081...</td>\n",
       "    </tr>\n",
       "    <tr>\n",
       "      <th>1</th>\n",
       "      <td>Action Comics (1938 DC) 650 VF 8.0</td>\n",
       "      <td>Action Comics</td>\n",
       "      <td>650</td>\n",
       "      <td>650</td>\n",
       "      <td>1938 DC</td>\n",
       "      <td>VF</td>\n",
       "      <td>DC</td>\n",
       "      <td>Feb</td>\n",
       "      <td>1990</td>\n",
       "      <td>Superman</td>\n",
       "      <td>Cover art by George Perez. Reflections starrin...</td>\n",
       "      <td>0.75</td>\n",
       "      <td>9.6</td>\n",
       "      <td>https://www.mycomicshop.com/search?IID=6286761...</td>\n",
       "    </tr>\n",
       "    <tr>\n",
       "      <th>2</th>\n",
       "      <td>Alien Legion (1984 1st Series) 13 FN</td>\n",
       "      <td>Alien Legion</td>\n",
       "      <td>13</td>\n",
       "      <td>13</td>\n",
       "      <td>1984 1st Series</td>\n",
       "      <td>FN</td>\n",
       "      <td>Marvel/Epic</td>\n",
       "      <td>Apr</td>\n",
       "      <td>1986</td>\n",
       "      <td>NaN</td>\n",
       "      <td>\"Moonlillies for Coracora!\" Created by Carl Po...</td>\n",
       "      <td>1.50</td>\n",
       "      <td>3.6</td>\n",
       "      <td>https://www.mycomicshop.com/search?IID=3893091...</td>\n",
       "    </tr>\n",
       "    <tr>\n",
       "      <th>3</th>\n",
       "      <td>Alpha Flight (1983 1st Series) 13 VF</td>\n",
       "      <td>Alpha Flight</td>\n",
       "      <td>13</td>\n",
       "      <td>13</td>\n",
       "      <td>1983 1st Series</td>\n",
       "      <td>VF</td>\n",
       "      <td>Marvel</td>\n",
       "      <td>Aug</td>\n",
       "      <td>1984</td>\n",
       "      <td>Hero/Villain Teams, Wolverine</td>\n",
       "      <td>\"Nightmare\" Guest-starring Wolverine (in a dre...</td>\n",
       "      <td>0.60</td>\n",
       "      <td>4.4</td>\n",
       "      <td>https://www.mycomicshop.com/search?IID=9705191...</td>\n",
       "    </tr>\n",
       "    <tr>\n",
       "      <th>4</th>\n",
       "      <td>Alpha Flight (1983 1st Series) 17 VF</td>\n",
       "      <td>Alpha Flight</td>\n",
       "      <td>17</td>\n",
       "      <td>17</td>\n",
       "      <td>1983 1st Series</td>\n",
       "      <td>VF</td>\n",
       "      <td>Marvel</td>\n",
       "      <td>Dec</td>\n",
       "      <td>1984</td>\n",
       "      <td>Hero/Villain Teams, Wolverine, X-Men</td>\n",
       "      <td>\"Dreams Die Hard...!\" Guest-starring Wolverine...</td>\n",
       "      <td>0.60</td>\n",
       "      <td>4.0</td>\n",
       "      <td>https://www.mycomicshop.com/search?IID=6631491...</td>\n",
       "    </tr>\n",
       "  </tbody>\n",
       "</table>\n",
       "</div>"
      ],
      "text/plain": [
       "                             full_title          title issue  issue_num  \\\n",
       "0        Action Comics (1938 DC) 649 VF  Action Comics   649        649   \n",
       "1    Action Comics (1938 DC) 650 VF 8.0  Action Comics   650        650   \n",
       "2  Alien Legion (1984 1st Series) 13 FN   Alien Legion    13         13   \n",
       "3  Alpha Flight (1983 1st Series) 13 VF   Alpha Flight    13         13   \n",
       "4  Alpha Flight (1983 1st Series) 17 VF   Alpha Flight    17         17   \n",
       "\n",
       "            series cond    publisher pub_month  pub_year  \\\n",
       "0          1938 DC   VF           DC       Jan      1990   \n",
       "1          1938 DC   VF           DC       Feb      1990   \n",
       "2  1984 1st Series   FN  Marvel/Epic       Apr      1986   \n",
       "3  1983 1st Series   VF       Marvel       Aug      1984   \n",
       "4  1983 1st Series   VF       Marvel       Dec      1984   \n",
       "\n",
       "                                   tags  \\\n",
       "0                              Superman   \n",
       "1                              Superman   \n",
       "2                                   NaN   \n",
       "3         Hero/Villain Teams, Wolverine   \n",
       "4  Hero/Villain Teams, Wolverine, X-Men   \n",
       "\n",
       "                                         description  cover_price  curr_price  \\\n",
       "0  Cover art by George Perez. Man and Machine (Th...         0.75         8.0   \n",
       "1  Cover art by George Perez. Reflections starrin...         0.75         9.6   \n",
       "2  \"Moonlillies for Coracora!\" Created by Carl Po...         1.50         3.6   \n",
       "3  \"Nightmare\" Guest-starring Wolverine (in a dre...         0.60         4.4   \n",
       "4  \"Dreams Die Hard...!\" Guest-starring Wolverine...         0.60         4.0   \n",
       "\n",
       "                                                 url  \n",
       "0  https://www.mycomicshop.com/search?IID=6378081...  \n",
       "1  https://www.mycomicshop.com/search?IID=6286761...  \n",
       "2  https://www.mycomicshop.com/search?IID=3893091...  \n",
       "3  https://www.mycomicshop.com/search?IID=9705191...  \n",
       "4  https://www.mycomicshop.com/search?IID=6631491...  "
      ]
     },
     "execution_count": 17,
     "metadata": {},
     "output_type": "execute_result"
    }
   ],
   "source": [
    "df.head()"
   ]
  },
  {
   "cell_type": "code",
   "execution_count": 18,
   "metadata": {},
   "outputs": [
    {
     "name": "stdout",
     "output_type": "stream",
     "text": [
      "<class 'pandas.core.frame.DataFrame'>\n",
      "RangeIndex: 562 entries, 0 to 561\n",
      "Data columns (total 14 columns):\n",
      "full_title     562 non-null object\n",
      "title          562 non-null object\n",
      "issue          562 non-null object\n",
      "issue_num      562 non-null int64\n",
      "series         562 non-null object\n",
      "cond           562 non-null object\n",
      "publisher      562 non-null object\n",
      "pub_month      543 non-null object\n",
      "pub_year       562 non-null int64\n",
      "tags           478 non-null object\n",
      "description    560 non-null object\n",
      "cover_price    559 non-null float64\n",
      "curr_price     562 non-null float64\n",
      "url            562 non-null object\n",
      "dtypes: float64(2), int64(2), object(10)\n",
      "memory usage: 61.5+ KB\n"
     ]
    }
   ],
   "source": [
    "df.info()"
   ]
  },
  {
   "cell_type": "code",
   "execution_count": 19,
   "metadata": {},
   "outputs": [
    {
     "data": {
      "text/html": [
       "<div>\n",
       "<style scoped>\n",
       "    .dataframe tbody tr th:only-of-type {\n",
       "        vertical-align: middle;\n",
       "    }\n",
       "\n",
       "    .dataframe tbody tr th {\n",
       "        vertical-align: top;\n",
       "    }\n",
       "\n",
       "    .dataframe thead th {\n",
       "        text-align: right;\n",
       "    }\n",
       "</style>\n",
       "<table border=\"1\" class=\"dataframe\">\n",
       "  <thead>\n",
       "    <tr style=\"text-align: right;\">\n",
       "      <th></th>\n",
       "      <th>issue_num</th>\n",
       "      <th>pub_year</th>\n",
       "      <th>cover_price</th>\n",
       "      <th>curr_price</th>\n",
       "    </tr>\n",
       "  </thead>\n",
       "  <tbody>\n",
       "    <tr>\n",
       "      <th>count</th>\n",
       "      <td>562.000000</td>\n",
       "      <td>562.000000</td>\n",
       "      <td>559.000000</td>\n",
       "      <td>562.000000</td>\n",
       "    </tr>\n",
       "    <tr>\n",
       "      <th>mean</th>\n",
       "      <td>130.816726</td>\n",
       "      <td>1988.343416</td>\n",
       "      <td>1.231664</td>\n",
       "      <td>3.819751</td>\n",
       "    </tr>\n",
       "    <tr>\n",
       "      <th>std</th>\n",
       "      <td>153.837427</td>\n",
       "      <td>3.905917</td>\n",
       "      <td>0.687040</td>\n",
       "      <td>2.193422</td>\n",
       "    </tr>\n",
       "    <tr>\n",
       "      <th>min</th>\n",
       "      <td>0.000000</td>\n",
       "      <td>1973.000000</td>\n",
       "      <td>0.200000</td>\n",
       "      <td>1.700000</td>\n",
       "    </tr>\n",
       "    <tr>\n",
       "      <th>25%</th>\n",
       "      <td>8.000000</td>\n",
       "      <td>1986.000000</td>\n",
       "      <td>0.750000</td>\n",
       "      <td>2.400000</td>\n",
       "    </tr>\n",
       "    <tr>\n",
       "      <th>50%</th>\n",
       "      <td>53.000000</td>\n",
       "      <td>1990.000000</td>\n",
       "      <td>1.000000</td>\n",
       "      <td>3.200000</td>\n",
       "    </tr>\n",
       "    <tr>\n",
       "      <th>75%</th>\n",
       "      <td>252.250000</td>\n",
       "      <td>1991.000000</td>\n",
       "      <td>1.500000</td>\n",
       "      <td>4.800000</td>\n",
       "    </tr>\n",
       "    <tr>\n",
       "      <th>max</th>\n",
       "      <td>650.000000</td>\n",
       "      <td>1994.000000</td>\n",
       "      <td>4.950000</td>\n",
       "      <td>16.000000</td>\n",
       "    </tr>\n",
       "  </tbody>\n",
       "</table>\n",
       "</div>"
      ],
      "text/plain": [
       "        issue_num     pub_year  cover_price  curr_price\n",
       "count  562.000000   562.000000   559.000000  562.000000\n",
       "mean   130.816726  1988.343416     1.231664    3.819751\n",
       "std    153.837427     3.905917     0.687040    2.193422\n",
       "min      0.000000  1973.000000     0.200000    1.700000\n",
       "25%      8.000000  1986.000000     0.750000    2.400000\n",
       "50%     53.000000  1990.000000     1.000000    3.200000\n",
       "75%    252.250000  1991.000000     1.500000    4.800000\n",
       "max    650.000000  1994.000000     4.950000   16.000000"
      ]
     },
     "execution_count": 19,
     "metadata": {},
     "output_type": "execute_result"
    }
   ],
   "source": [
    "df.describe()"
   ]
  },
  {
   "cell_type": "code",
   "execution_count": 20,
   "metadata": {},
   "outputs": [
    {
     "name": "stderr",
     "output_type": "stream",
     "text": [
      "C:\\Users\\Elliot Weiss\\Anaconda3\\lib\\site-packages\\numpy\\lib\\histograms.py:824: RuntimeWarning: invalid value encountered in greater_equal\n",
      "  keep = (tmp_a >= first_edge)\n",
      "C:\\Users\\Elliot Weiss\\Anaconda3\\lib\\site-packages\\numpy\\lib\\histograms.py:825: RuntimeWarning: invalid value encountered in less_equal\n",
      "  keep &= (tmp_a <= last_edge)\n"
     ]
    },
    {
     "data": {
      "text/plain": [
       "<seaborn.axisgrid.PairGrid at 0x23d60817518>"
      ]
     },
     "execution_count": 20,
     "metadata": {},
     "output_type": "execute_result"
    },
    {
     "data": {
      "image/png": "[encoded data removed]",
      "text/plain": [
       "<Figure size 720x720 with 20 Axes>"
      ]
     },
     "metadata": {
      "needs_background": "light"
     },
     "output_type": "display_data"
    }
   ],
   "source": [
    "sns.pairplot(df, palette = \"reds\",kind=\"reg\", plot_kws={'line_kws':{'color':'red'}})"
   ]
  },
  {
   "cell_type": "code",
   "execution_count": 21,
   "metadata": {},
   "outputs": [
    {
     "data": {
      "text/plain": [
       "Marvel                     450\n",
       "DC                          86\n",
       "Dark Horse                  13\n",
       "Image                        4\n",
       "Comico                       2\n",
       "Valiant/Acclaim              2\n",
       "Marvel/Epic                  1\n",
       "Valiant                      1\n",
       "Walt Disney Productions      1\n",
       "DC/Vertigo                   1\n",
       "Defiant                      1\n",
       "Name: publisher, dtype: int64"
      ]
     },
     "execution_count": 21,
     "metadata": {},
     "output_type": "execute_result"
    }
   ],
   "source": [
    "df[\"publisher\"].value_counts()"
   ]
  },
  {
   "cell_type": "code",
   "execution_count": 22,
   "metadata": {},
   "outputs": [
    {
     "data": {
      "text/plain": [
       "New Mutants               58\n",
       "Daredevil                 54\n",
       "Ghost Rider               41\n",
       "Iron Man                  33\n",
       "Captain America           29\n",
       "Batman                    26\n",
       "Incredible Hulk           24\n",
       "Amazing Spider-Man        24\n",
       "X-Factor                  20\n",
       "Fantastic Four            17\n",
       "X-Force                   16\n",
       "Punisher War Zone         15\n",
       "Avengers                  12\n",
       "Excalibur                 10\n",
       "Marvel Comics Presents    10\n",
       "Namor the Sub-Mariner      9\n",
       "Doctor Strange             9\n",
       "Star Trek                  8\n",
       "Superman                   8\n",
       "Next Men                   8\n",
       "Web of Spider-Man          8\n",
       "Detective Comics           8\n",
       "Green Lantern              7\n",
       "Original Ghost Rider       5\n",
       "Omega Men                  5\n",
       "Name: title, dtype: int64"
      ]
     },
     "execution_count": 22,
     "metadata": {},
     "output_type": "execute_result"
    }
   ],
   "source": [
    "df[\"title\"].value_counts().head(25)"
   ]
  },
  {
   "cell_type": "code",
   "execution_count": 23,
   "metadata": {},
   "outputs": [
    {
     "data": {
      "text/plain": [
       "1983 1st Series         68\n",
       "1968 1st Series         62\n",
       "1964 1st Series         54\n",
       "1992                    45\n",
       "1990 2nd Series         37\n",
       "1963 1st Series         36\n",
       "1940                    26\n",
       "1962-1999 1st Series    24\n",
       "1986 1st Series         20\n",
       "1961 1st Series         17\n",
       "1991 1st Series         17\n",
       "1991                    16\n",
       "1988 1st Series         13\n",
       "1988                    12\n",
       "1987 2nd Series         11\n",
       "1990 1st Series          9\n",
       "1985 1st Series          8\n",
       "1937 1st Series          8\n",
       "1990-2004 2nd Series     7\n",
       "1984 1st Series DC       7\n",
       "1989                     7\n",
       "1992 1st Series          6\n",
       "1993                     5\n",
       "1973 1st Series          5\n",
       "1974 2nd Series          5\n",
       "Name: series, dtype: int64"
      ]
     },
     "execution_count": 23,
     "metadata": {},
     "output_type": "execute_result"
    }
   ],
   "source": [
    "df[\"series\"].value_counts().head(25)"
   ]
  },
  {
   "cell_type": "code",
   "execution_count": null,
   "metadata": {},
   "outputs": [],
   "source": []
  }
 ],
 "metadata": {
  "kernelspec": {
   "display_name": "Python 3",
   "language": "python",
   "name": "python3"
  },
  "language_info": {
   "codemirror_mode": {
    "name": "ipython",
    "version": 3
   },
   "file_extension": ".py",
   "mimetype": "text/x-python",
   "name": "python",
   "nbconvert_exporter": "python",
   "pygments_lexer": "ipython3",
   "version": "3.7.3"
  }
 },
 "nbformat": 4,
 "nbformat_minor": 2
}
