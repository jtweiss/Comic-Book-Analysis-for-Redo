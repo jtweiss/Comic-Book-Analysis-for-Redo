{
 "cells": [
  {
   "cell_type": "markdown",
   "metadata": {},
   "source": [
    "# Comic Book Scraper For Redo (Draft)"
   ]
  },
  {
   "cell_type": "markdown",
   "metadata": {},
   "source": [
    "At work recently, I had the task of pricing 14 long boxes of comics in two days. Each long box contains approximately 275 comics that my boss wanted cataloged and priced. Since I was the only working on this assignment, I needed a way to quickly and effectively price this collection before the sale. I then realized I could use my skills in Python to make this assignment a lot easier. I found a site, mycomicbookshop.com, that conveniently provides a price and an \"Add to Cart Option\" for most of the comics in the collection. The only way I was able to complete this assignment is to add each comic to the cart and then scrape all the information I would need later, as opposed to manually entering it into Excel. This code is a sample of about 600 of those comics, and I thought it would be interesting to perform an analysis with this information.\n",
    "\n",
    "The other updated version can be found in my Github here: https://github.com/jtweiss\n",
    "\n",
    "Some things to note before continuing: \n",
    "1. The owner of this collection of comics is not comfortable with the contents of his entire collection being posted online at this time, so this project will only be on the contents of approximately three long boxes selected at random.\n",
    "2. We believe this version has an issue when it encounters a 503-gateway error on select pages, this will be revised in later versions. The updated version removes the items from the cart, so the cleaning portion of this project will be performed on an exported excel sheet with the first couple of comics.\n",
    "3. Simple visualizations will be performed, but the bulk of the EDA will be done in Tableau.\n",
    "4. An explanation for the comic book grading system can be found here, https://www.mycomicshop.com/help/grading, for those unfamiliar with how the grading system works.\n",
    "5. After conversing with some people in the comic collecting community when I had some questions, I have been informed that the prices on mycomicbookshop.com are slightly overpriced. To compensate for this we took 25% off the calculated price in addition to the discount we gave on the entire lot."
   ]
  },
  {
   "cell_type": "markdown",
   "metadata": {},
   "source": [
    "## Data Extraction from mycomicbookshop.com"
   ]
  },
  {
   "cell_type": "code",
   "execution_count": null,
   "metadata": {},
   "outputs": [],
   "source": [
    "USERNAME = \"myusername\"\n",
    "PASSWORD = \"mypassword\""
   ]
  },
  {
   "cell_type": "code",
   "execution_count": 2,
   "metadata": {},
   "outputs": [],
   "source": [
    "from selenium.common.exceptions import StaleElementReferenceException,TimeoutException\n",
    "from webdriver_manager.firefox import GeckoDriverManager\n",
    "\n",
    "import re\n",
    "import requests\n",
    "import pandas as pd\n",
    "from bs4 import BeautifulSoup\n",
    "from selenium import webdriver"
   ]
  },
  {
   "cell_type": "code",
   "execution_count": null,
   "metadata": {},
   "outputs": [],
   "source": [
    "driver = webdriver.Firefox(executable_path=GeckoDriverManager().install())"
   ]
  },
  {
   "cell_type": "code",
   "execution_count": null,
   "metadata": {},
   "outputs": [],
   "source": [
    "driver.get(\"https://www.mycomicshop.com/login\")"
   ]
  },
  {
   "cell_type": "code",
   "execution_count": null,
   "metadata": {},
   "outputs": [],
   "source": [
    "email = driver.find_element_by_name(\"CustomerEmail\")\n",
    "email.clear()\n",
    "email.send_keys(USERNAME)"
   ]
  },
  {
   "cell_type": "code",
   "execution_count": null,
   "metadata": {},
   "outputs": [],
   "source": [
    "password =  driver.find_element_by_name(\"CustomerPassword\")\n",
    "password.clear()\n",
    "password.send_keys(PASSWORD)"
   ]
  },
  {
   "cell_type": "code",
   "execution_count": null,
   "metadata": {},
   "outputs": [],
   "source": [
    "driver.find_element_by_xpath(\"//*[@id='content']/div/table/tbody/tr/td/form[1]/table/tbody/tr[3]/td[2]/input\").click()"
   ]
  },
  {
   "cell_type": "code",
   "execution_count": null,
   "metadata": {},
   "outputs": [],
   "source": [
    "driver.find_element_by_class_name(\"cart\").click()"
   ]
  },
  {
   "cell_type": "code",
   "execution_count": null,
   "metadata": {},
   "outputs": [],
   "source": [
    "save_table = driver.find_element_by_xpath(\"//*[@id='content']/div/table\")\n",
    "comic_info = save_table.text"
   ]
  },
  {
   "cell_type": "code",
   "execution_count": null,
   "metadata": {},
   "outputs": [],
   "source": [
    "comic_info = comic_info.split(\" Move to Cart Delete\\n\")"
   ]
  },
  {
   "cell_type": "code",
   "execution_count": null,
   "metadata": {
    "scrolled": true
   },
   "outputs": [],
   "source": [
    "len(comic_info)"
   ]
  },
  {
   "cell_type": "code",
   "execution_count": null,
   "metadata": {},
   "outputs": [],
   "source": [
    "comic_info[:5]"
   ]
  },
  {
   "cell_type": "code",
   "execution_count": null,
   "metadata": {},
   "outputs": [],
   "source": [
    "cond_list = []\n",
    "\n",
    "for comic in comic_info:\n",
    "    if \"NM\" in comic.split():\n",
    "        cond_list.append(\"NM\")\n",
    "    if \"VF\" in comic.split():\n",
    "        cond_list.append(\"VF\")\n",
    "    if \"FN\" in comic.split():\n",
    "        cond_list.append(\"FN\")\n",
    "    if \"GD\" in comic.split():\n",
    "        cond_list.append(\"GD\")\n",
    "    if \"FR\" in comic.split():\n",
    "        cond_list.append(\"FR\")\n",
    "    if \"PR\" in comic.split():\n",
    "        cond_list.append(\"PR\")"
   ]
  },
  {
   "cell_type": "code",
   "execution_count": null,
   "metadata": {},
   "outputs": [],
   "source": [
    "price_list = []\n",
    "\n",
    "for comic in comic_info:\n",
    "    price_list.append(comic.split(\"$\")[1].split()[0])"
   ]
  },
  {
   "cell_type": "code",
   "execution_count": null,
   "metadata": {},
   "outputs": [],
   "source": [
    "len(comic_info)"
   ]
  },
  {
   "cell_type": "code",
   "execution_count": null,
   "metadata": {
    "scrolled": true
   },
   "outputs": [],
   "source": [
    "title_list = []\n",
    "publish_info_list = []\n",
    "tags_list = []\n",
    "description_list = [] \n",
    "\n",
    "for i in range(1,len(comic_info)+1):\n",
    "    try:\n",
    "        save_table.find_element_by_xpath(\"//*[@id='content']/div/table/tbody/tr[{}]/td[1]/a\".format(i)).click()\n",
    "        html_doc = requests.get(driver.current_url)\n",
    "        soup = BeautifulSoup(html_doc.text, 'html.parser')\n",
    "        \n",
    "        title = soup.title\n",
    "        title_list.append(title)\n",
    "        \n",
    "        publish_info = soup.find(\"div\",{\"class\": \"othercolright\"})\n",
    "        if type(publish_info)== type(None):\n",
    "            publish_info_list.append(\"No Publisher Info Listed\")\n",
    "        else:\n",
    "            publish_info_list.append(publish_info.text)  \n",
    "        \n",
    "        \n",
    "        tags = soup.find(\"div\",{\"class\": \"indentrow\"})\n",
    "        if type(tags)== type(None):\n",
    "            tags_list.append(\"No Tags Listed\")\n",
    "        else:\n",
    "            tags_list.append(tags)\n",
    "            \n",
    "        description = soup.find(\"div\",{\"class\": \"tabcontents\"}).p\n",
    "        description_list.append(description)\n",
    "            \n",
    "    except StaleElementReferenceException as Exception:\n",
    "        driver.back()\n",
    "        save_table = driver.find_element_by_xpath(\"//*[@id='content']/div/table\")\n",
    "        save_table.find_element_by_xpath(\"//*[@id='content']/div/table/tbody/tr[{}]/td[1]/a\".format(i)).click()\n",
    "        html_doc = requests.get(driver.current_url)\n",
    "        soup = BeautifulSoup(html_doc.text,\"lxml\")\n",
    "        \n",
    "        title = soup.title\n",
    "        title_list.append(title)\n",
    "        \n",
    "        publish_info = soup.find(\"div\",{\"class\": \"othercolright\"})\n",
    "        if type(publish_info)== type(None):\n",
    "            publish_info_list.append(\"No Publisher Info Listed\")\n",
    "        else:\n",
    "            publish_info_list.append(publish_info.text)  \n",
    "        \n",
    "        tags = soup.find(\"div\",{\"class\": \"indentrow\"})\n",
    "        if type(tags)== type(None):\n",
    "            tags_list.append(\"No Tags Listed\")\n",
    "        else:\n",
    "            tags_list.append(tags.text)\n",
    "            \n",
    "        description = soup.find(\"div\",{\"class\": \"tabcontents\"}).p\n",
    "        description_list.append(description)\n",
    "        \n",
    "    except requests.exceptions.Timeout as Exception:\n",
    "        \n",
    "        driver.back()\n",
    "        save_table = driver.find_element_by_xpath(\"//*[@id='content']/div/table\")\n",
    "        save_table.find_element_by_xpath(\"//*[@id='content']/div/table/tbody/tr[{}]/td[1]/a\".format(i)).click()\n",
    "        html_doc = requests.get(driver.current_url)\n",
    "        soup = BeautifulSoup(html_doc.text,\"lxml\")\n",
    "        \n",
    "        title = soup.title\n",
    "        title_list.append(title)\n",
    "        \n",
    "        publish_info = soup.find(\"div\",{\"class\": \"othercolright\"})\n",
    "        if type(publish_info)== type(None):\n",
    "            publish_info_list.append(\"No Publisher Info Listed\")\n",
    "        else:\n",
    "            publish_info_list.append(publish_info.text)  \n",
    "        \n",
    "        \n",
    "        tags = soup.find(\"div\",{\"class\": \"indentrow\"})\n",
    "        if type(tags)== type(None):\n",
    "            tags_list.append(\"No Tags Listed\")\n",
    "        else:\n",
    "            tags_list.append(tags.text)\n",
    "            \n",
    "        description = soup.find(\"div\",{\"class\": \"tabcontents\"}).p\n",
    "        description_list.append(description)"
   ]
  },
  {
   "cell_type": "code",
   "execution_count": null,
   "metadata": {},
   "outputs": [],
   "source": [
    "df = pd.DataFrame(list(zip(comic_info,title_list,cond_list,price_list,publish_info_list,tags_list,description_list))\n",
    "                       ,columns = [\"full_title\",\"title\",\"condition\",\"price\",\"publish_date\",\"tags\",\"descriptions\"] )"
   ]
  },
  {
   "cell_type": "code",
   "execution_count": null,
   "metadata": {},
   "outputs": [],
   "source": [
    "df.head()"
   ]
  },
  {
   "cell_type": "code",
   "execution_count": null,
   "metadata": {},
   "outputs": [],
   "source": [
    "df.describe()"
   ]
  },
  {
   "cell_type": "code",
   "execution_count": null,
   "metadata": {},
   "outputs": [],
   "source": [
    "df.to_excel(r\"C:\\Users\\Elliot Weiss\\Desktop\\comic_data_selenium.xlsx\")"
   ]
  },
  {
   "cell_type": "markdown",
   "metadata": {},
   "source": [
    "## Data Cleaning"
   ]
  },
  {
   "cell_type": "code",
   "execution_count": 3,
   "metadata": {},
   "outputs": [],
   "source": [
    "df = pd.read_excel(r\"C:\\Users\\Elliot Weiss\\Desktop\\comic_data_selenium.xlsx\")"
   ]
  },
  {
   "cell_type": "code",
   "execution_count": 4,
   "metadata": {},
   "outputs": [
    {
     "data": {
      "text/html": [
       "<div>\n",
       "<style scoped>\n",
       "    .dataframe tbody tr th:only-of-type {\n",
       "        vertical-align: middle;\n",
       "    }\n",
       "\n",
       "    .dataframe tbody tr th {\n",
       "        vertical-align: top;\n",
       "    }\n",
       "\n",
       "    .dataframe thead th {\n",
       "        text-align: right;\n",
       "    }\n",
       "</style>\n",
       "<table border=\"1\" class=\"dataframe\">\n",
       "  <thead>\n",
       "    <tr style=\"text-align: right;\">\n",
       "      <th></th>\n",
       "      <th>Unnamed: 0</th>\n",
       "      <th>full_title</th>\n",
       "      <th>title</th>\n",
       "      <th>condition</th>\n",
       "      <th>price</th>\n",
       "      <th>publish_date</th>\n",
       "      <th>tags</th>\n",
       "      <th>descriptions</th>\n",
       "    </tr>\n",
       "  </thead>\n",
       "  <tbody>\n",
       "    <tr>\n",
       "      <th>0</th>\n",
       "      <td>0</td>\n",
       "      <td>Description Price\\nMove All to Cart\\nAction Co...</td>\n",
       "      <td>&lt;title&gt;Action Comics (1938 DC) 649&lt;/title&gt;</td>\n",
       "      <td>VF</td>\n",
       "      <td>8.0</td>\n",
       "      <td>Published\\nJan 1990\\nby DC.\\n</td>\n",
       "      <td>&lt;div class=\"indentrow\"&gt;\\nTags:\\n&lt;a href=\"searc...</td>\n",
       "      <td>&lt;p&gt;Cover art by George Perez. Man and Machine ...</td>\n",
       "    </tr>\n",
       "    <tr>\n",
       "      <th>1</th>\n",
       "      <td>1</td>\n",
       "      <td>Action Comics (1938 DC) 650 VF 8.0 $9.60</td>\n",
       "      <td>&lt;title&gt;Action Comics (1938 DC) 650&lt;/title&gt;</td>\n",
       "      <td>VF</td>\n",
       "      <td>9.6</td>\n",
       "      <td>Published\\nFeb 1990\\nby DC.\\n</td>\n",
       "      <td>\\nTags:\\nSuperman\\n</td>\n",
       "      <td>&lt;p&gt;Cover art by George Perez. Reflections star...</td>\n",
       "    </tr>\n",
       "    <tr>\n",
       "      <th>2</th>\n",
       "      <td>2</td>\n",
       "      <td>Alien Legion (1984 1st Series) 13 FN $3.60</td>\n",
       "      <td>&lt;title&gt;Alien Legion (1984 1st Series) 13&lt;/title&gt;</td>\n",
       "      <td>FN</td>\n",
       "      <td>3.6</td>\n",
       "      <td>Published\\nApr 1986\\nby Marvel/Epic.\\n</td>\n",
       "      <td>No Tags Listed</td>\n",
       "      <td>&lt;p&gt;\"Moonlillies for Coracora!\" Created by Carl...</td>\n",
       "    </tr>\n",
       "    <tr>\n",
       "      <th>3</th>\n",
       "      <td>3</td>\n",
       "      <td>Alpha Flight (1983 1st Series) 13 VF $4.40</td>\n",
       "      <td>&lt;title&gt;Alpha Flight (1983 1st Series) 13&lt;/title&gt;</td>\n",
       "      <td>VF</td>\n",
       "      <td>4.4</td>\n",
       "      <td>Published\\nAug 1984\\nby Marvel.\\n</td>\n",
       "      <td>\\nTags:\\nHero/Villain Teams,\\nWolverine\\n</td>\n",
       "      <td>&lt;p&gt;\"Nightmare\" Guest-starring Wolverine (in a ...</td>\n",
       "    </tr>\n",
       "    <tr>\n",
       "      <th>4</th>\n",
       "      <td>4</td>\n",
       "      <td>Alpha Flight (1983 1st Series) 17 VF $4.00</td>\n",
       "      <td>&lt;title&gt;Alpha Flight (1983 1st Series) 17&lt;/title&gt;</td>\n",
       "      <td>VF</td>\n",
       "      <td>4.0</td>\n",
       "      <td>Published\\nDec 1984\\nby Marvel.\\n</td>\n",
       "      <td>\\nTags:\\nHero/Villain Teams,\\nWolverine,\\nX-Men\\n</td>\n",
       "      <td>&lt;p&gt;\"Dreams Die Hard...!\" Guest-starring Wolver...</td>\n",
       "    </tr>\n",
       "  </tbody>\n",
       "</table>\n",
       "</div>"
      ],
      "text/plain": [
       "   Unnamed: 0                                         full_title  \\\n",
       "0           0  Description Price\\nMove All to Cart\\nAction Co...   \n",
       "1           1           Action Comics (1938 DC) 650 VF 8.0 $9.60   \n",
       "2           2         Alien Legion (1984 1st Series) 13 FN $3.60   \n",
       "3           3         Alpha Flight (1983 1st Series) 13 VF $4.40   \n",
       "4           4         Alpha Flight (1983 1st Series) 17 VF $4.00   \n",
       "\n",
       "                                              title condition  price  \\\n",
       "0        <title>Action Comics (1938 DC) 649</title>        VF    8.0   \n",
       "1        <title>Action Comics (1938 DC) 650</title>        VF    9.6   \n",
       "2  <title>Alien Legion (1984 1st Series) 13</title>        FN    3.6   \n",
       "3  <title>Alpha Flight (1983 1st Series) 13</title>        VF    4.4   \n",
       "4  <title>Alpha Flight (1983 1st Series) 17</title>        VF    4.0   \n",
       "\n",
       "                             publish_date  \\\n",
       "0           Published\\nJan 1990\\nby DC.\\n   \n",
       "1           Published\\nFeb 1990\\nby DC.\\n   \n",
       "2  Published\\nApr 1986\\nby Marvel/Epic.\\n   \n",
       "3       Published\\nAug 1984\\nby Marvel.\\n   \n",
       "4       Published\\nDec 1984\\nby Marvel.\\n   \n",
       "\n",
       "                                                tags  \\\n",
       "0  <div class=\"indentrow\">\\nTags:\\n<a href=\"searc...   \n",
       "1                                \\nTags:\\nSuperman\\n   \n",
       "2                                     No Tags Listed   \n",
       "3          \\nTags:\\nHero/Villain Teams,\\nWolverine\\n   \n",
       "4  \\nTags:\\nHero/Villain Teams,\\nWolverine,\\nX-Men\\n   \n",
       "\n",
       "                                        descriptions  \n",
       "0  <p>Cover art by George Perez. Man and Machine ...  \n",
       "1  <p>Cover art by George Perez. Reflections star...  \n",
       "2  <p>\"Moonlillies for Coracora!\" Created by Carl...  \n",
       "3  <p>\"Nightmare\" Guest-starring Wolverine (in a ...  \n",
       "4  <p>\"Dreams Die Hard...!\" Guest-starring Wolver...  "
      ]
     },
     "execution_count": 4,
     "metadata": {},
     "output_type": "execute_result"
    }
   ],
   "source": [
    "df.head()"
   ]
  },
  {
   "cell_type": "code",
   "execution_count": 5,
   "metadata": {},
   "outputs": [],
   "source": [
    "df.drop(\"Unnamed: 0\", axis=1, inplace =True)"
   ]
  },
  {
   "cell_type": "code",
   "execution_count": 6,
   "metadata": {},
   "outputs": [
    {
     "name": "stderr",
     "output_type": "stream",
     "text": [
      "C:\\Users\\Elliot Weiss\\Anaconda3\\lib\\site-packages\\ipykernel_launcher.py:1: SettingWithCopyWarning: \n",
      "A value is trying to be set on a copy of a slice from a DataFrame\n",
      "\n",
      "See the caveats in the documentation: http://pandas.pydata.org/pandas-docs/stable/indexing.html#indexing-view-versus-copy\n",
      "  \"\"\"Entry point for launching an IPython kernel.\n"
     ]
    }
   ],
   "source": [
    "df[\"full_title\"][0] = df[\"full_title\"][0].split(\"\\n\")[2]"
   ]
  },
  {
   "cell_type": "code",
   "execution_count": 7,
   "metadata": {},
   "outputs": [
    {
     "name": "stderr",
     "output_type": "stream",
     "text": [
      "C:\\Users\\Elliot Weiss\\Anaconda3\\lib\\site-packages\\ipykernel_launcher.py:1: SettingWithCopyWarning: \n",
      "A value is trying to be set on a copy of a slice from a DataFrame\n",
      "\n",
      "See the caveats in the documentation: http://pandas.pydata.org/pandas-docs/stable/indexing.html#indexing-view-versus-copy\n",
      "  \"\"\"Entry point for launching an IPython kernel.\n"
     ]
    }
   ],
   "source": [
    "df[\"tags\"][0]=\"Superman\""
   ]
  },
  {
   "cell_type": "code",
   "execution_count": 8,
   "metadata": {},
   "outputs": [],
   "source": [
    "df[\"series\"]= df[\"title\"].apply(lambda x: x[x.find(\"(\")+1:x.find(\")\")])"
   ]
  },
  {
   "cell_type": "code",
   "execution_count": 9,
   "metadata": {},
   "outputs": [],
   "source": [
    "df[\"issue\"]= df[\"title\"].apply(lambda x: x.split(\")\")[1].split(\"<\")[0])"
   ]
  },
  {
   "cell_type": "code",
   "execution_count": 10,
   "metadata": {},
   "outputs": [],
   "source": [
    "df[\"title\"] = df[\"title\"].apply(lambda x: x.split(\"<title>\")[-1].split(\"(\")[0])"
   ]
  },
  {
   "cell_type": "code",
   "execution_count": 11,
   "metadata": {},
   "outputs": [],
   "source": [
    "df[\"publish_date\"] = df[\"publish_date\"].apply(lambda x: x.replace(\"\\n\",\" \"))"
   ]
  },
  {
   "cell_type": "code",
   "execution_count": 12,
   "metadata": {},
   "outputs": [],
   "source": [
    "df[\"publisher\"] = df[\"publish_date\"].apply(lambda x: x.split(\"by\")[-1].split(\".\")[0])"
   ]
  },
  {
   "cell_type": "code",
   "execution_count": 13,
   "metadata": {},
   "outputs": [],
   "source": [
    "df[\"publish_date\"] = df[\"publish_date\"].apply(lambda x: x.split(\"Published \")[-1].split(\" by\")[0])"
   ]
  },
  {
   "cell_type": "code",
   "execution_count": 14,
   "metadata": {},
   "outputs": [],
   "source": [
    "df[\"tags\"] = df[\"tags\"].apply(lambda x: x.replace(\"\\n\",\" \"))"
   ]
  },
  {
   "cell_type": "code",
   "execution_count": 15,
   "metadata": {},
   "outputs": [],
   "source": [
    "def tag_cleaner (tag):   \n",
    "    if tag.startswith(\" Tags: \"):\n",
    "        return tag.split(\" Tags: \")[1]\n",
    "    else:\n",
    "        return tag"
   ]
  },
  {
   "cell_type": "code",
   "execution_count": 16,
   "metadata": {},
   "outputs": [],
   "source": [
    "df[\"tags\"] = df[\"tags\"].apply(lambda x: tag_cleaner(x))"
   ]
  },
  {
   "cell_type": "code",
   "execution_count": 17,
   "metadata": {},
   "outputs": [],
   "source": [
    "df[\"descriptions\"] = df[\"descriptions\"].apply(lambda x: x.split(\"<p>\")[-1].split(\"</p>\")[0])"
   ]
  },
  {
   "cell_type": "code",
   "execution_count": 18,
   "metadata": {},
   "outputs": [],
   "source": [
    "df[\"descriptions\"] = df[\"descriptions\"].apply(lambda x: x.replace(\"\\n\",\" \"))"
   ]
  },
  {
   "cell_type": "code",
   "execution_count": 19,
   "metadata": {},
   "outputs": [],
   "source": [
    "df[\"cover_price\"] = df[\"descriptions\"].apply(lambda x: x.split(\"$\")[-1][:-2])"
   ]
  },
  {
   "cell_type": "code",
   "execution_count": 20,
   "metadata": {},
   "outputs": [],
   "source": [
    "df = df[[\"full_title\", \"title\", \"issue\", \"series\", \"condition\", \"publisher\", \"publish_date\",\"tags\", \"descriptions\",\"cover_price\",\"price\"]]"
   ]
  },
  {
   "cell_type": "code",
   "execution_count": 21,
   "metadata": {},
   "outputs": [
    {
     "data": {
      "text/html": [
       "<div>\n",
       "<style scoped>\n",
       "    .dataframe tbody tr th:only-of-type {\n",
       "        vertical-align: middle;\n",
       "    }\n",
       "\n",
       "    .dataframe tbody tr th {\n",
       "        vertical-align: top;\n",
       "    }\n",
       "\n",
       "    .dataframe thead th {\n",
       "        text-align: right;\n",
       "    }\n",
       "</style>\n",
       "<table border=\"1\" class=\"dataframe\">\n",
       "  <thead>\n",
       "    <tr style=\"text-align: right;\">\n",
       "      <th></th>\n",
       "      <th>full_title</th>\n",
       "      <th>title</th>\n",
       "      <th>issue</th>\n",
       "      <th>series</th>\n",
       "      <th>condition</th>\n",
       "      <th>publisher</th>\n",
       "      <th>publish_date</th>\n",
       "      <th>tags</th>\n",
       "      <th>descriptions</th>\n",
       "      <th>cover_price</th>\n",
       "      <th>price</th>\n",
       "    </tr>\n",
       "  </thead>\n",
       "  <tbody>\n",
       "    <tr>\n",
       "      <th>0</th>\n",
       "      <td>Action Comics (1938 DC) 649 VF $8.00</td>\n",
       "      <td>Action Comics</td>\n",
       "      <td>649</td>\n",
       "      <td>1938 DC</td>\n",
       "      <td>VF</td>\n",
       "      <td>DC</td>\n",
       "      <td>Jan 1990</td>\n",
       "      <td>Superman</td>\n",
       "      <td>Cover art by George Perez. Man and Machine (Th...</td>\n",
       "      <td>0.75</td>\n",
       "      <td>8.0</td>\n",
       "    </tr>\n",
       "    <tr>\n",
       "      <th>1</th>\n",
       "      <td>Action Comics (1938 DC) 650 VF 8.0 $9.60</td>\n",
       "      <td>Action Comics</td>\n",
       "      <td>650</td>\n",
       "      <td>1938 DC</td>\n",
       "      <td>VF</td>\n",
       "      <td>DC</td>\n",
       "      <td>Feb 1990</td>\n",
       "      <td>Superman</td>\n",
       "      <td>Cover art by George Perez. Reflections starrin...</td>\n",
       "      <td>0.75</td>\n",
       "      <td>9.6</td>\n",
       "    </tr>\n",
       "    <tr>\n",
       "      <th>2</th>\n",
       "      <td>Alien Legion (1984 1st Series) 13 FN $3.60</td>\n",
       "      <td>Alien Legion</td>\n",
       "      <td>13</td>\n",
       "      <td>1984 1st Series</td>\n",
       "      <td>FN</td>\n",
       "      <td>Marvel/Epic</td>\n",
       "      <td>Apr 1986</td>\n",
       "      <td>No Tags Listed</td>\n",
       "      <td>\"Moonlillies for Coracora!\" Created by Carl Po...</td>\n",
       "      <td>1.50</td>\n",
       "      <td>3.6</td>\n",
       "    </tr>\n",
       "    <tr>\n",
       "      <th>3</th>\n",
       "      <td>Alpha Flight (1983 1st Series) 13 VF $4.40</td>\n",
       "      <td>Alpha Flight</td>\n",
       "      <td>13</td>\n",
       "      <td>1983 1st Series</td>\n",
       "      <td>VF</td>\n",
       "      <td>Marvel</td>\n",
       "      <td>Aug 1984</td>\n",
       "      <td>Hero/Villain Teams, Wolverine</td>\n",
       "      <td>\"Nightmare\" Guest-starring Wolverine (in a dre...</td>\n",
       "      <td>0.60</td>\n",
       "      <td>4.4</td>\n",
       "    </tr>\n",
       "    <tr>\n",
       "      <th>4</th>\n",
       "      <td>Alpha Flight (1983 1st Series) 17 VF $4.00</td>\n",
       "      <td>Alpha Flight</td>\n",
       "      <td>17</td>\n",
       "      <td>1983 1st Series</td>\n",
       "      <td>VF</td>\n",
       "      <td>Marvel</td>\n",
       "      <td>Dec 1984</td>\n",
       "      <td>Hero/Villain Teams, Wolverine, X-Men</td>\n",
       "      <td>\"Dreams Die Hard...!\" Guest-starring Wolverine...</td>\n",
       "      <td>0.60</td>\n",
       "      <td>4.0</td>\n",
       "    </tr>\n",
       "  </tbody>\n",
       "</table>\n",
       "</div>"
      ],
      "text/plain": [
       "                                   full_title           title issue  \\\n",
       "0        Action Comics (1938 DC) 649 VF $8.00  Action Comics    649   \n",
       "1    Action Comics (1938 DC) 650 VF 8.0 $9.60  Action Comics    650   \n",
       "2  Alien Legion (1984 1st Series) 13 FN $3.60   Alien Legion     13   \n",
       "3  Alpha Flight (1983 1st Series) 13 VF $4.40   Alpha Flight     13   \n",
       "4  Alpha Flight (1983 1st Series) 17 VF $4.00   Alpha Flight     17   \n",
       "\n",
       "            series condition     publisher publish_date  \\\n",
       "0          1938 DC        VF            DC     Jan 1990   \n",
       "1          1938 DC        VF            DC     Feb 1990   \n",
       "2  1984 1st Series        FN   Marvel/Epic     Apr 1986   \n",
       "3  1983 1st Series        VF        Marvel     Aug 1984   \n",
       "4  1983 1st Series        VF        Marvel     Dec 1984   \n",
       "\n",
       "                                    tags  \\\n",
       "0                               Superman   \n",
       "1                              Superman    \n",
       "2                         No Tags Listed   \n",
       "3         Hero/Villain Teams, Wolverine    \n",
       "4  Hero/Villain Teams, Wolverine, X-Men    \n",
       "\n",
       "                                        descriptions cover_price  price  \n",
       "0  Cover art by George Perez. Man and Machine (Th...        0.75    8.0  \n",
       "1  Cover art by George Perez. Reflections starrin...        0.75    9.6  \n",
       "2  \"Moonlillies for Coracora!\" Created by Carl Po...        1.50    3.6  \n",
       "3  \"Nightmare\" Guest-starring Wolverine (in a dre...        0.60    4.4  \n",
       "4  \"Dreams Die Hard...!\" Guest-starring Wolverine...        0.60    4.0  "
      ]
     },
     "execution_count": 21,
     "metadata": {},
     "output_type": "execute_result"
    }
   ],
   "source": [
    "df.head()"
   ]
  }
 ],
 "metadata": {
  "kernelspec": {
   "display_name": "Python 3",
   "language": "python",
   "name": "python3"
  },
  "language_info": {
   "codemirror_mode": {
    "name": "ipython",
    "version": 3
   },
   "file_extension": ".py",
   "mimetype": "text/x-python",
   "name": "python",
   "nbconvert_exporter": "python",
   "pygments_lexer": "ipython3",
   "version": "3.7.3"
  }
 },
 "nbformat": 4,
 "nbformat_minor": 2
}
